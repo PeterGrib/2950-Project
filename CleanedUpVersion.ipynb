{
 "cells": [
  {
   "cell_type": "markdown",
   "metadata": {},
   "source": [
    "Introduction\n",
    "=============\n",
    "What is the context of the work? What research question are you trying to answer? What are your main findings?"
   ]
  },
  {
   "cell_type": "markdown",
   "metadata": {},
   "source": [
    "Data Description\n",
    "=============\n",
    "Answer the following questions:\n",
    "* What are the observations (rows) and the attributes (columns)?\n",
    "* Why was this dataset created?\n",
    "* Who funded the creation of the dataset?\n",
    "* What processes might have influenced what data was observed and recorded and what was not?\n",
    "* What preprocessing was done, and how did the data come to be in the form that you are using?\n",
    "* If people are involved, were they aware of the data collection and if so, what purpose did they expect the data to be used for?\n",
    "* Where can your raw source data be found, if applicable? Provide a link to the raw data (hosted in a Cornell Google Drive or Cornell Box). \n"
   ]
  },
  {
   "cell_type": "code",
   "execution_count": 61,
   "metadata": {},
   "outputs": [],
   "source": [
    "import pandas as pd \n",
    "import numpy as np\n",
    "import re\n",
    "import matplotlib.pyplot as plt\n",
    "from sklearn.linear_model import LinearRegression, LogisticRegression"
   ]
  },
  {
   "cell_type": "code",
   "execution_count": 3,
   "metadata": {},
   "outputs": [],
   "source": [
    "'''\n",
    "The purpose of the code in this cell is to tranform the txt files we have into workable csv files##\n",
    "'''\n",
    "\n",
    "#Open raw text files containing tables for respective movie information\n",
    "open_titles_data = open(\"movie_titles_metadata.txt\", mode = \"r\")\n",
    "open_characters_data = open(\"movie_characters_metadata.txt\", mode = 'r')\n",
    "open_lines_data = open(\"movie_lines.txt\", mode = 'r')\n",
    "open_conversations_data = open(\"movie_conversations.txt\", mode = 'r')\n",
    "\n",
    "\n",
    "#Create a csv file for each text to work on\n",
    "titles_csv = open(\"titles_workable.csv\",\"w+\")\n",
    "characters_csv = open(\"characters_workable.csv\", \"w+\")\n",
    "lines_csv = open(\"lines_workable.csv\", \"w+\")\n",
    "conversations_csv = open(\"conversations_workable.csv\", \"w+\")\n",
    "\n",
    "\n",
    "\n",
    "###Write csv file from raw text files###\n",
    "\n",
    "#Titles#\n",
    "for line in open_titles_data:\n",
    "    #replace commas in any list elements, interferes with parser\n",
    "    line = line.replace(\",\",\"-\")\n",
    "    #replace default separater with comma to read as csv\n",
    "    titles_csv.write(line.replace(\" +++$+++ \",\",\"))\n",
    "titles_csv.close()\n",
    "\n",
    "\n",
    "#Characters#\n",
    "for line in open_characters_data:\n",
    "    #replace commas in any list elements, interferes with parser\n",
    "    line = line.replace(\",\",\"-\")\n",
    "    #replace default separater with comma to read as csv\n",
    "    characters_csv.write(line.replace(\" +++$+++ \",\",\"))\n",
    "characters_csv.close()\n",
    "\n",
    "\n",
    "#Lines#\n",
    "for line in open_lines_data:\n",
    "    #replace commas in any list elements, interferes with parser\n",
    "    line = line.replace(\",\",\"-\")\n",
    "    #replace default separater with comma to read as csv\n",
    "    lines_csv.write(line.replace(\" +++$+++ \",\",\"))\n",
    "lines_csv.close()\n",
    "\n",
    "\n",
    "#Conversations#\n",
    "for line in open_conversations_data:\n",
    "    #replace commas in any list elements, interferes with parser\n",
    "    line = line.replace(\",\",\"-\")\n",
    "    #replace default separater with comma to read as csv\n",
    "    conversations_csv.write(line.replace(\" +++$+++ \",\",\"))\n",
    "conversations_csv.close()\n",
    "\n",
    "movie_titles = pd.read_csv(\"titles_workable.csv\", encoding='latin-1', header = None)\n",
    "movie_characters = pd.read_csv(\"characters_workable.csv\", encoding='latin-1', header = None)\n",
    "movie_lines = pd.read_csv(\"lines_workable.csv\", encoding='latin-1', header = None)\n",
    "movie_conversations = pd.read_csv(\"conversations_workable.csv\", encoding='latin-1', header = None)"
   ]
  },
  {
   "cell_type": "code",
   "execution_count": 4,
   "metadata": {},
   "outputs": [
    {
     "name": "stderr",
     "output_type": "stream",
     "text": [
      "C:\\Users\\peter\\AppData\\Local\\conda\\conda\\envs\\info2950\\lib\\site-packages\\ipykernel_launcher.py:14: SettingWithCopyWarning: \n",
      "A value is trying to be set on a copy of a slice from a DataFrame\n",
      "\n",
      "See the caveats in the documentation: http://pandas.pydata.org/pandas-docs/stable/user_guide/indexing.html#returning-a-view-versus-a-copy\n",
      "  \n"
     ]
    }
   ],
   "source": [
    "'''\n",
    "The purpose of the code in this cell is to create workable dataframes from the csv files we created\n",
    "'''\n",
    "\n",
    "#Set column names for each table we have to work with##\n",
    "movie_titles.columns = ['movieID', 'title', 'year', 'rating', '# of votes', 'genres']\n",
    "movie_characters.columns = ['characterID', 'name', 'movieID', 'title', 'gender', 'pos in credits']\n",
    "movie_lines.columns = ['lineID', 'characterID', 'movieID', 'name', 'text']\n",
    "movie_conversations.columns = ['characterID_first' , 'characterID_second' , 'movieID', 'line_order']\n",
    "\n",
    "\n",
    "for i in range(len(movie_titles['genres'])):\n",
    "    #put the original list of genres back together, currently stored as a string representation of a list\n",
    "    movie_titles['genres'][i] = movie_titles['genres'][i].strip('][').split('- ') \n",
    "    \n",
    "for i in range(len(movie_conversations['line_order'])):\n",
    "    #put the original list of lines that make a conversation back together, \n",
    "    #currently stored as a string representation of a list\n",
    "    movie_conversations['line_order'][i] = movie_conversations['line_order'][i].strip('][').split('- ')"
   ]
  },
  {
   "cell_type": "code",
   "execution_count": 5,
   "metadata": {},
   "outputs": [
    {
     "data": {
      "text/html": [
       "<div>\n",
       "<style scoped>\n",
       "    .dataframe tbody tr th:only-of-type {\n",
       "        vertical-align: middle;\n",
       "    }\n",
       "\n",
       "    .dataframe tbody tr th {\n",
       "        vertical-align: top;\n",
       "    }\n",
       "\n",
       "    .dataframe thead th {\n",
       "        text-align: right;\n",
       "    }\n",
       "</style>\n",
       "<table border=\"1\" class=\"dataframe\">\n",
       "  <thead>\n",
       "    <tr style=\"text-align: right;\">\n",
       "      <th></th>\n",
       "      <th>movieID</th>\n",
       "      <th>title</th>\n",
       "      <th>year</th>\n",
       "      <th>rating</th>\n",
       "      <th># of votes</th>\n",
       "      <th>genres</th>\n",
       "    </tr>\n",
       "  </thead>\n",
       "  <tbody>\n",
       "    <tr>\n",
       "      <td>0</td>\n",
       "      <td>m0</td>\n",
       "      <td>10 things i hate about you</td>\n",
       "      <td>1999</td>\n",
       "      <td>6.9</td>\n",
       "      <td>62847</td>\n",
       "      <td>['comedy', 'romance']</td>\n",
       "    </tr>\n",
       "    <tr>\n",
       "      <td>1</td>\n",
       "      <td>m1</td>\n",
       "      <td>1492: conquest of paradise</td>\n",
       "      <td>1992</td>\n",
       "      <td>6.2</td>\n",
       "      <td>10421</td>\n",
       "      <td>['adventure', 'biography', 'drama', 'history']</td>\n",
       "    </tr>\n",
       "    <tr>\n",
       "      <td>2</td>\n",
       "      <td>m2</td>\n",
       "      <td>15 minutes</td>\n",
       "      <td>2001</td>\n",
       "      <td>6.1</td>\n",
       "      <td>25854</td>\n",
       "      <td>['action', 'crime', 'drama', 'thriller']</td>\n",
       "    </tr>\n",
       "    <tr>\n",
       "      <td>3</td>\n",
       "      <td>m3</td>\n",
       "      <td>2001: a space odyssey</td>\n",
       "      <td>1968</td>\n",
       "      <td>8.4</td>\n",
       "      <td>163227</td>\n",
       "      <td>['adventure', 'mystery', 'sci-fi']</td>\n",
       "    </tr>\n",
       "    <tr>\n",
       "      <td>4</td>\n",
       "      <td>m4</td>\n",
       "      <td>48 hrs.</td>\n",
       "      <td>1982</td>\n",
       "      <td>6.9</td>\n",
       "      <td>22289</td>\n",
       "      <td>['action', 'comedy', 'crime', 'drama', 'thrill...</td>\n",
       "    </tr>\n",
       "  </tbody>\n",
       "</table>\n",
       "</div>"
      ],
      "text/plain": [
       "  movieID                       title  year  rating  # of votes  \\\n",
       "0      m0  10 things i hate about you  1999     6.9       62847   \n",
       "1      m1  1492: conquest of paradise  1992     6.2       10421   \n",
       "2      m2                  15 minutes  2001     6.1       25854   \n",
       "3      m3       2001: a space odyssey  1968     8.4      163227   \n",
       "4      m4                     48 hrs.  1982     6.9       22289   \n",
       "\n",
       "                                              genres  \n",
       "0                              ['comedy', 'romance']  \n",
       "1     ['adventure', 'biography', 'drama', 'history']  \n",
       "2           ['action', 'crime', 'drama', 'thriller']  \n",
       "3                 ['adventure', 'mystery', 'sci-fi']  \n",
       "4  ['action', 'comedy', 'crime', 'drama', 'thrill...  "
      ]
     },
     "execution_count": 5,
     "metadata": {},
     "output_type": "execute_result"
    }
   ],
   "source": [
    "movie_titles.head()"
   ]
  },
  {
   "cell_type": "code",
   "execution_count": 6,
   "metadata": {},
   "outputs": [
    {
     "data": {
      "text/html": [
       "<div>\n",
       "<style scoped>\n",
       "    .dataframe tbody tr th:only-of-type {\n",
       "        vertical-align: middle;\n",
       "    }\n",
       "\n",
       "    .dataframe tbody tr th {\n",
       "        vertical-align: top;\n",
       "    }\n",
       "\n",
       "    .dataframe thead th {\n",
       "        text-align: right;\n",
       "    }\n",
       "</style>\n",
       "<table border=\"1\" class=\"dataframe\">\n",
       "  <thead>\n",
       "    <tr style=\"text-align: right;\">\n",
       "      <th></th>\n",
       "      <th>characterID</th>\n",
       "      <th>name</th>\n",
       "      <th>movieID</th>\n",
       "      <th>title</th>\n",
       "      <th>gender</th>\n",
       "      <th>pos in credits</th>\n",
       "    </tr>\n",
       "  </thead>\n",
       "  <tbody>\n",
       "    <tr>\n",
       "      <td>0</td>\n",
       "      <td>u0</td>\n",
       "      <td>BIANCA</td>\n",
       "      <td>m0</td>\n",
       "      <td>10 things i hate about you</td>\n",
       "      <td>f</td>\n",
       "      <td>4</td>\n",
       "    </tr>\n",
       "    <tr>\n",
       "      <td>1</td>\n",
       "      <td>u1</td>\n",
       "      <td>BRUCE</td>\n",
       "      <td>m0</td>\n",
       "      <td>10 things i hate about you</td>\n",
       "      <td>?</td>\n",
       "      <td>?</td>\n",
       "    </tr>\n",
       "    <tr>\n",
       "      <td>2</td>\n",
       "      <td>u2</td>\n",
       "      <td>CAMERON</td>\n",
       "      <td>m0</td>\n",
       "      <td>10 things i hate about you</td>\n",
       "      <td>m</td>\n",
       "      <td>3</td>\n",
       "    </tr>\n",
       "    <tr>\n",
       "      <td>3</td>\n",
       "      <td>u3</td>\n",
       "      <td>CHASTITY</td>\n",
       "      <td>m0</td>\n",
       "      <td>10 things i hate about you</td>\n",
       "      <td>?</td>\n",
       "      <td>?</td>\n",
       "    </tr>\n",
       "    <tr>\n",
       "      <td>4</td>\n",
       "      <td>u4</td>\n",
       "      <td>JOEY</td>\n",
       "      <td>m0</td>\n",
       "      <td>10 things i hate about you</td>\n",
       "      <td>m</td>\n",
       "      <td>6</td>\n",
       "    </tr>\n",
       "  </tbody>\n",
       "</table>\n",
       "</div>"
      ],
      "text/plain": [
       "  characterID      name movieID                       title gender  \\\n",
       "0          u0    BIANCA      m0  10 things i hate about you      f   \n",
       "1          u1     BRUCE      m0  10 things i hate about you      ?   \n",
       "2          u2   CAMERON      m0  10 things i hate about you      m   \n",
       "3          u3  CHASTITY      m0  10 things i hate about you      ?   \n",
       "4          u4      JOEY      m0  10 things i hate about you      m   \n",
       "\n",
       "  pos in credits  \n",
       "0              4  \n",
       "1              ?  \n",
       "2              3  \n",
       "3              ?  \n",
       "4              6  "
      ]
     },
     "execution_count": 6,
     "metadata": {},
     "output_type": "execute_result"
    }
   ],
   "source": [
    "movie_characters.head()"
   ]
  },
  {
   "cell_type": "code",
   "execution_count": 7,
   "metadata": {},
   "outputs": [
    {
     "data": {
      "text/html": [
       "<div>\n",
       "<style scoped>\n",
       "    .dataframe tbody tr th:only-of-type {\n",
       "        vertical-align: middle;\n",
       "    }\n",
       "\n",
       "    .dataframe tbody tr th {\n",
       "        vertical-align: top;\n",
       "    }\n",
       "\n",
       "    .dataframe thead th {\n",
       "        text-align: right;\n",
       "    }\n",
       "</style>\n",
       "<table border=\"1\" class=\"dataframe\">\n",
       "  <thead>\n",
       "    <tr style=\"text-align: right;\">\n",
       "      <th></th>\n",
       "      <th>lineID</th>\n",
       "      <th>characterID</th>\n",
       "      <th>movieID</th>\n",
       "      <th>name</th>\n",
       "      <th>text</th>\n",
       "    </tr>\n",
       "  </thead>\n",
       "  <tbody>\n",
       "    <tr>\n",
       "      <td>0</td>\n",
       "      <td>L1045</td>\n",
       "      <td>u0</td>\n",
       "      <td>m0</td>\n",
       "      <td>BIANCA</td>\n",
       "      <td>They do not!</td>\n",
       "    </tr>\n",
       "    <tr>\n",
       "      <td>1</td>\n",
       "      <td>L1044</td>\n",
       "      <td>u2</td>\n",
       "      <td>m0</td>\n",
       "      <td>CAMERON</td>\n",
       "      <td>They do to!</td>\n",
       "    </tr>\n",
       "    <tr>\n",
       "      <td>2</td>\n",
       "      <td>L985</td>\n",
       "      <td>u0</td>\n",
       "      <td>m0</td>\n",
       "      <td>BIANCA</td>\n",
       "      <td>I hope so.</td>\n",
       "    </tr>\n",
       "    <tr>\n",
       "      <td>3</td>\n",
       "      <td>L984</td>\n",
       "      <td>u2</td>\n",
       "      <td>m0</td>\n",
       "      <td>CAMERON</td>\n",
       "      <td>She okay?</td>\n",
       "    </tr>\n",
       "    <tr>\n",
       "      <td>4</td>\n",
       "      <td>L925</td>\n",
       "      <td>u0</td>\n",
       "      <td>m0</td>\n",
       "      <td>BIANCA</td>\n",
       "      <td>Let's go.</td>\n",
       "    </tr>\n",
       "  </tbody>\n",
       "</table>\n",
       "</div>"
      ],
      "text/plain": [
       "  lineID characterID movieID     name          text\n",
       "0  L1045          u0      m0   BIANCA  They do not!\n",
       "1  L1044          u2      m0  CAMERON   They do to!\n",
       "2   L985          u0      m0   BIANCA    I hope so.\n",
       "3   L984          u2      m0  CAMERON     She okay?\n",
       "4   L925          u0      m0   BIANCA     Let's go."
      ]
     },
     "execution_count": 7,
     "metadata": {},
     "output_type": "execute_result"
    }
   ],
   "source": [
    "movie_lines.head()"
   ]
  },
  {
   "cell_type": "code",
   "execution_count": 8,
   "metadata": {},
   "outputs": [
    {
     "data": {
      "text/html": [
       "<div>\n",
       "<style scoped>\n",
       "    .dataframe tbody tr th:only-of-type {\n",
       "        vertical-align: middle;\n",
       "    }\n",
       "\n",
       "    .dataframe tbody tr th {\n",
       "        vertical-align: top;\n",
       "    }\n",
       "\n",
       "    .dataframe thead th {\n",
       "        text-align: right;\n",
       "    }\n",
       "</style>\n",
       "<table border=\"1\" class=\"dataframe\">\n",
       "  <thead>\n",
       "    <tr style=\"text-align: right;\">\n",
       "      <th></th>\n",
       "      <th>characterID_first</th>\n",
       "      <th>characterID_second</th>\n",
       "      <th>movieID</th>\n",
       "      <th>line_order</th>\n",
       "    </tr>\n",
       "  </thead>\n",
       "  <tbody>\n",
       "    <tr>\n",
       "      <td>0</td>\n",
       "      <td>u0</td>\n",
       "      <td>u2</td>\n",
       "      <td>m0</td>\n",
       "      <td>['L194', 'L195', 'L196', 'L197']</td>\n",
       "    </tr>\n",
       "    <tr>\n",
       "      <td>1</td>\n",
       "      <td>u0</td>\n",
       "      <td>u2</td>\n",
       "      <td>m0</td>\n",
       "      <td>['L198', 'L199']</td>\n",
       "    </tr>\n",
       "    <tr>\n",
       "      <td>2</td>\n",
       "      <td>u0</td>\n",
       "      <td>u2</td>\n",
       "      <td>m0</td>\n",
       "      <td>['L200', 'L201', 'L202', 'L203']</td>\n",
       "    </tr>\n",
       "    <tr>\n",
       "      <td>3</td>\n",
       "      <td>u0</td>\n",
       "      <td>u2</td>\n",
       "      <td>m0</td>\n",
       "      <td>['L204', 'L205', 'L206']</td>\n",
       "    </tr>\n",
       "    <tr>\n",
       "      <td>4</td>\n",
       "      <td>u0</td>\n",
       "      <td>u2</td>\n",
       "      <td>m0</td>\n",
       "      <td>['L207', 'L208']</td>\n",
       "    </tr>\n",
       "  </tbody>\n",
       "</table>\n",
       "</div>"
      ],
      "text/plain": [
       "  characterID_first characterID_second movieID  \\\n",
       "0                u0                 u2      m0   \n",
       "1                u0                 u2      m0   \n",
       "2                u0                 u2      m0   \n",
       "3                u0                 u2      m0   \n",
       "4                u0                 u2      m0   \n",
       "\n",
       "                         line_order  \n",
       "0  ['L194', 'L195', 'L196', 'L197']  \n",
       "1                  ['L198', 'L199']  \n",
       "2  ['L200', 'L201', 'L202', 'L203']  \n",
       "3          ['L204', 'L205', 'L206']  \n",
       "4                  ['L207', 'L208']  "
      ]
     },
     "execution_count": 8,
     "metadata": {},
     "output_type": "execute_result"
    }
   ],
   "source": [
    "movie_conversations.head()"
   ]
  },
  {
   "cell_type": "code",
   "execution_count": 9,
   "metadata": {},
   "outputs": [
    {
     "name": "stderr",
     "output_type": "stream",
     "text": [
      "C:\\Users\\peter\\AppData\\Local\\conda\\conda\\envs\\info2950\\lib\\site-packages\\ipykernel_launcher.py:13: SettingWithCopyWarning: \n",
      "A value is trying to be set on a copy of a slice from a DataFrame\n",
      "\n",
      "See the caveats in the documentation: http://pandas.pydata.org/pandas-docs/stable/user_guide/indexing.html#returning-a-view-versus-a-copy\n",
      "  del sys.path[0]\n",
      "C:\\Users\\peter\\AppData\\Local\\conda\\conda\\envs\\info2950\\lib\\site-packages\\ipykernel_launcher.py:52: SettingWithCopyWarning: \n",
      "A value is trying to be set on a copy of a slice from a DataFrame\n",
      "\n",
      "See the caveats in the documentation: http://pandas.pydata.org/pandas-docs/stable/user_guide/indexing.html#returning-a-view-versus-a-copy\n"
     ]
    }
   ],
   "source": [
    "'''\n",
    "The purpose of the code in this cell is to create a dataframe that contains \n",
    "movies that are categorized as comedies, their respective rating, and counts of the distributions of curse words in \n",
    "those movies\n",
    "'''\n",
    "\n",
    "#Create a copy of movie_titles to alter\n",
    "comedy_movies = movie_titles.copy()\n",
    "\n",
    "#Create a column that will be used to filter out movies that are NOT comedies\n",
    "comedy_movies[\"isComedy\"] = False\n",
    "for i in range(len(movie_titles['genres'])):\n",
    "    comedy_movies[\"isComedy\"][i] = \"'comedy'\" in comedy_movies['genres'][i]\n",
    "comedy_movies = comedy_movies[comedy_movies['isComedy'] == True]\n",
    "\n",
    "#Create a new dataframe whose observations are movie lines from comedy films\n",
    "comedy_movie_lines = comedy_movies.merge(movie_lines, how = 'inner', on = 'movieID')\n",
    "\n",
    "#Create a list of the most common curse words (variations of these are attributed for as well) to check for\n",
    "curse_words = ['fuck', 'fook', 'shit', 'shite', 'bitch', 'cunt', 'asshole', ' ass ' ,' arse ', 'bastard']\n",
    "\n",
    "#Initialze what will be a nested dictionary. comedy_cursword_dist > movie >> curseword >>> curseword count in that movie \n",
    "comedy_curseword_dist = {}\n",
    "\n",
    "\n",
    "#Initialize the inner dictionaries\n",
    "for movie in comedy_movies['movieID']:\n",
    "    comedy_curseword_dist[movie] = {}\n",
    "\n",
    "#Initialize each curseword count to 0\n",
    "for key in comedy_curseword_dist:\n",
    "    for curse in curse_words:\n",
    "        comedy_curseword_dist[key][curse] = 0\n",
    "        \n",
    "#For each curseword, every line of every movie is checked. If a line contains the word, count the number of instances and\n",
    "#store the figure in the dictionary corresponding to the appropriate movie and word\n",
    "for curse in curse_words:\n",
    "    for line in range(len(comedy_movie_lines['text'])):\n",
    "        comedy_curseword_dist[ comedy_movie_lines['movieID'][line] ][curse] += str(comedy_movie_lines['text'][line]).count(curse)\n",
    "\n",
    "\n",
    "#Create new dataframe that will contain information from movie_titles, but only for comedies, as well as the distribution \n",
    "#of cursewords for each movie\n",
    "comedies_ratings_curses = pd.DataFrame()\n",
    "comedies_ratings_curses['movieID'] = comedy_curseword_dist\n",
    "\n",
    "for curse in curse_words:\n",
    "    comedies_ratings_curses[curse] = 0\n",
    "    \n",
    "for line in range(len(comedies_ratings_curses)):\n",
    "    for curse in curse_words:\n",
    "        comedies_ratings_curses[curse][line] = comedy_curseword_dist [ comedies_ratings_curses['movieID'][line] ][curse]\n",
    "        \n",
    "comedies_ratings_curses['total curses'] = comedies_ratings_curses.sum(axis=1)\n",
    "\n",
    "comedies = movie_titles.merge(comedies_ratings_curses, how = 'inner', on = 'movieID')\n",
    "comdies = comedies[['movieID', 'title', 'rating', '# of votes', 'fuck', 'fook', 'shit', 'shite', \n",
    "                    'bitch', 'cunt', 'asshole', ' ass ', ' arse ', 'bastard', 'total curses']]"
   ]
  },
  {
   "cell_type": "code",
   "execution_count": 127,
   "metadata": {
    "scrolled": true
   },
   "outputs": [
    {
     "data": {
      "text/html": [
       "<div>\n",
       "<style scoped>\n",
       "    .dataframe tbody tr th:only-of-type {\n",
       "        vertical-align: middle;\n",
       "    }\n",
       "\n",
       "    .dataframe tbody tr th {\n",
       "        vertical-align: top;\n",
       "    }\n",
       "\n",
       "    .dataframe thead th {\n",
       "        text-align: right;\n",
       "    }\n",
       "</style>\n",
       "<table border=\"1\" class=\"dataframe\">\n",
       "  <thead>\n",
       "    <tr style=\"text-align: right;\">\n",
       "      <th></th>\n",
       "      <th>movieID</th>\n",
       "      <th>title</th>\n",
       "      <th>year</th>\n",
       "      <th>rating</th>\n",
       "      <th># of votes</th>\n",
       "      <th>genres</th>\n",
       "      <th>fuck</th>\n",
       "      <th>fook</th>\n",
       "      <th>shit</th>\n",
       "      <th>shite</th>\n",
       "      <th>bitch</th>\n",
       "      <th>cunt</th>\n",
       "      <th>asshole</th>\n",
       "      <th>ass</th>\n",
       "      <th>arse</th>\n",
       "      <th>bastard</th>\n",
       "      <th>total curses</th>\n",
       "    </tr>\n",
       "  </thead>\n",
       "  <tbody>\n",
       "    <tr>\n",
       "      <td>0</td>\n",
       "      <td>m0</td>\n",
       "      <td>10 things i hate about you</td>\n",
       "      <td>1999</td>\n",
       "      <td>6.9</td>\n",
       "      <td>62847</td>\n",
       "      <td>['comedy', 'romance']</td>\n",
       "      <td>3</td>\n",
       "      <td>0</td>\n",
       "      <td>6</td>\n",
       "      <td>0</td>\n",
       "      <td>2</td>\n",
       "      <td>0</td>\n",
       "      <td>1</td>\n",
       "      <td>0</td>\n",
       "      <td>0</td>\n",
       "      <td>0</td>\n",
       "      <td>12</td>\n",
       "    </tr>\n",
       "    <tr>\n",
       "      <td>1</td>\n",
       "      <td>m4</td>\n",
       "      <td>48 hrs.</td>\n",
       "      <td>1982</td>\n",
       "      <td>6.9</td>\n",
       "      <td>22289</td>\n",
       "      <td>['action', 'comedy', 'crime', 'drama', 'thrill...</td>\n",
       "      <td>9</td>\n",
       "      <td>0</td>\n",
       "      <td>34</td>\n",
       "      <td>0</td>\n",
       "      <td>4</td>\n",
       "      <td>0</td>\n",
       "      <td>6</td>\n",
       "      <td>6</td>\n",
       "      <td>0</td>\n",
       "      <td>1</td>\n",
       "      <td>60</td>\n",
       "    </tr>\n",
       "    <tr>\n",
       "      <td>2</td>\n",
       "      <td>m12</td>\n",
       "      <td>airplane ii: the sequel</td>\n",
       "      <td>1982</td>\n",
       "      <td>5.8</td>\n",
       "      <td>15210</td>\n",
       "      <td>['comedy', 'romance', 'sci-fi']</td>\n",
       "      <td>0</td>\n",
       "      <td>0</td>\n",
       "      <td>1</td>\n",
       "      <td>0</td>\n",
       "      <td>0</td>\n",
       "      <td>0</td>\n",
       "      <td>0</td>\n",
       "      <td>0</td>\n",
       "      <td>0</td>\n",
       "      <td>0</td>\n",
       "      <td>1</td>\n",
       "    </tr>\n",
       "    <tr>\n",
       "      <td>3</td>\n",
       "      <td>m13</td>\n",
       "      <td>airplane!</td>\n",
       "      <td>1980</td>\n",
       "      <td>7.8</td>\n",
       "      <td>57692</td>\n",
       "      <td>['comedy', 'romance']</td>\n",
       "      <td>0</td>\n",
       "      <td>0</td>\n",
       "      <td>1</td>\n",
       "      <td>0</td>\n",
       "      <td>0</td>\n",
       "      <td>0</td>\n",
       "      <td>1</td>\n",
       "      <td>0</td>\n",
       "      <td>0</td>\n",
       "      <td>0</td>\n",
       "      <td>2</td>\n",
       "    </tr>\n",
       "    <tr>\n",
       "      <td>4</td>\n",
       "      <td>m22</td>\n",
       "      <td>austin powers: international man of mystery</td>\n",
       "      <td>1997</td>\n",
       "      <td>7.1</td>\n",
       "      <td>75240</td>\n",
       "      <td>['action', 'adventure', 'comedy', 'crime']</td>\n",
       "      <td>0</td>\n",
       "      <td>0</td>\n",
       "      <td>1</td>\n",
       "      <td>0</td>\n",
       "      <td>0</td>\n",
       "      <td>0</td>\n",
       "      <td>0</td>\n",
       "      <td>1</td>\n",
       "      <td>0</td>\n",
       "      <td>1</td>\n",
       "      <td>3</td>\n",
       "    </tr>\n",
       "  </tbody>\n",
       "</table>\n",
       "</div>"
      ],
      "text/plain": [
       "  movieID                                        title  year  rating  \\\n",
       "0      m0                   10 things i hate about you  1999     6.9   \n",
       "1      m4                                      48 hrs.  1982     6.9   \n",
       "2     m12                      airplane ii: the sequel  1982     5.8   \n",
       "3     m13                                    airplane!  1980     7.8   \n",
       "4     m22  austin powers: international man of mystery  1997     7.1   \n",
       "\n",
       "   # of votes                                             genres  fuck  fook  \\\n",
       "0       62847                              ['comedy', 'romance']     3     0   \n",
       "1       22289  ['action', 'comedy', 'crime', 'drama', 'thrill...     9     0   \n",
       "2       15210                    ['comedy', 'romance', 'sci-fi']     0     0   \n",
       "3       57692                              ['comedy', 'romance']     0     0   \n",
       "4       75240         ['action', 'adventure', 'comedy', 'crime']     0     0   \n",
       "\n",
       "   shit  shite  bitch  cunt  asshole   ass    arse   bastard  total curses  \n",
       "0     6      0      2     0        1      0       0        0            12  \n",
       "1    34      0      4     0        6      6       0        1            60  \n",
       "2     1      0      0     0        0      0       0        0             1  \n",
       "3     1      0      0     0        1      0       0        0             2  \n",
       "4     1      0      0     0        0      1       0        1             3  "
      ]
     },
     "execution_count": 127,
     "metadata": {},
     "output_type": "execute_result"
    }
   ],
   "source": [
    "comedies.head()"
   ]
  },
  {
   "cell_type": "code",
   "execution_count": 129,
   "metadata": {},
   "outputs": [
    {
     "data": {
      "text/plain": [
       "<matplotlib.collections.PathCollection at 0x21a89596988>"
      ]
     },
     "execution_count": 129,
     "metadata": {},
     "output_type": "execute_result"
    },
    {
     "data": {
      "image/png": "[encoded data removed]",
      "text/plain": [
       "<Figure size 432x288 with 1 Axes>"
      ]
     },
     "metadata": {},
     "output_type": "display_data"
    }
   ],
   "source": [
    "plt.scatter(comedies['total curses'],comedies['rating'])"
   ]
  },
  {
   "cell_type": "code",
   "execution_count": 11,
   "metadata": {},
   "outputs": [
    {
     "name": "stderr",
     "output_type": "stream",
     "text": [
      "C:\\Users\\peter\\AppData\\Local\\conda\\conda\\envs\\info2950\\lib\\site-packages\\ipykernel_launcher.py:47: SettingWithCopyWarning: \n",
      "A value is trying to be set on a copy of a slice from a DataFrame\n",
      "\n",
      "See the caveats in the documentation: http://pandas.pydata.org/pandas-docs/stable/user_guide/indexing.html#returning-a-view-versus-a-copy\n",
      "C:\\Users\\peter\\AppData\\Local\\conda\\conda\\envs\\info2950\\lib\\site-packages\\ipykernel_launcher.py:48: SettingWithCopyWarning: \n",
      "A value is trying to be set on a copy of a slice from a DataFrame\n",
      "\n",
      "See the caveats in the documentation: http://pandas.pydata.org/pandas-docs/stable/user_guide/indexing.html#returning-a-view-versus-a-copy\n"
     ]
    }
   ],
   "source": [
    "'''\n",
    "The purpose of this cell is to construct a dataframe that contains for each year, a count \n",
    "of the number of lines in a comedy script by a male actor vs. a female actor\n",
    "'''\n",
    "\n",
    "#Retrieves relevant info from the lines of comedy movies dataframe\n",
    "comedy_movie_lines_trim = comedy_movie_lines[['movieID', 'title', 'year', 'lineID', 'characterID', 'name', 'text']]\n",
    "\n",
    "#Adds in info  about the characters saying those lines\n",
    "comedy_lines_characterinfo = comedy_movie_lines_trim.merge(movie_characters)\n",
    "\n",
    "#Compiles a list of years in the dataset\n",
    "years_recorded = []\n",
    "for year in comedy_lines_characterinfo['year']:\n",
    "    if year not in years_recorded:\n",
    "        years_recorded.append(year)\n",
    "\n",
    "#Changes list of years to ints and sorts\n",
    "for i in range(len(years_recorded)):\n",
    "    years_recorded[i] = int(years_recorded[i][:4])\n",
    "years_recorded.sort()\n",
    "\n",
    "#Initializes what will be a nested dictionary. For each year, a count of lines for comedy movies in that year\n",
    "years_recorded_mflines = {}\n",
    "\n",
    "#Creates inner dictionary.\n",
    "for year in years_recorded:\n",
    "    years_recorded_mflines[str(year)] = {'m': 0, 'f': 0}\n",
    "    \n",
    "\n",
    "#For each line in each comedy movie, adds 1 to the count of the respective movie/gender combo\n",
    "for i in range(len(comedy_lines_characterinfo)):\n",
    "    if comedy_lines_characterinfo['year'][i] not in years_recorded_mflines:\n",
    "        pass\n",
    "    elif comedy_lines_characterinfo['gender'][i] == 'm':\n",
    "        years_recorded_mflines[ comedy_lines_characterinfo['year'][i] ]['m'] += 1\n",
    "    elif comedy_lines_characterinfo['gender'][i] == 'f':\n",
    "        years_recorded_mflines[ comedy_lines_characterinfo['year'][i] ]['f'] += 1\n",
    "\n",
    "#Creates new dataframe that will be years and number of lines for males and females in that year in comedy movies\n",
    "comedy_line_breakdown = pd.DataFrame()\n",
    "comedy_line_breakdown['Year'] = years_recorded_mflines\n",
    "comedy_line_breakdown['Male Lines'] = 0\n",
    "comedy_line_breakdown['Female Lines'] = 0\n",
    "\n",
    "for i in range(len(comedy_line_breakdown)):\n",
    "    comedy_line_breakdown['Male Lines'][i] = years_recorded_mflines[ comedy_line_breakdown['Year'][i] ]['m']\n",
    "    comedy_line_breakdown['Female Lines'][i] = years_recorded_mflines[ comedy_line_breakdown['Year'][i] ]['f']"
   ]
  },
  {
   "cell_type": "code",
   "execution_count": 292,
   "metadata": {},
   "outputs": [],
   "source": [
    "comedy_line_breakdown.head()\n",
    "comedy_line_breakdown.to_csv(r'C:\\Users\\peter\\Desktop\\2950-Project\\Comedy_Lines_Year_vs_Gender.csv', index = False, header=True)"
   ]
  },
  {
   "cell_type": "code",
   "execution_count": 186,
   "metadata": {},
   "outputs": [
    {
     "data": {
      "text/plain": [
       "int"
      ]
     },
     "execution_count": 186,
     "metadata": {},
     "output_type": "execute_result"
    }
   ],
   "source": [
    "type(comedy_line_breakdown['Year'][0])"
   ]
  },
  {
   "cell_type": "markdown",
   "metadata": {},
   "source": [
    "Data Analysis\n",
    "=============\n",
    "* Use summary functions like mean and standard deviation along with visual displays like scatter plots and histograms to describe data.\n",
    "* Provide at least one model showing patterns or relationships between variables that addresses your research question. This could be a regression or clustering, or something else that measures some property of the dataset.\n"
   ]
  },
  {
   "cell_type": "markdown",
   "metadata": {},
   "source": [
    "Tried male and female vs. time, nada. Bad graph, bad $r^2$"
   ]
  },
  {
   "cell_type": "code",
   "execution_count": 151,
   "metadata": {},
   "outputs": [
    {
     "data": {
      "image/png": "[encoded data removed]",
      "text/plain": [
       "<Figure size 432x288 with 1 Axes>"
      ]
     },
     "metadata": {},
     "output_type": "display_data"
    }
   ],
   "source": [
    "plt.style.use('seaborn-darkgrid')\n",
    "\n",
    "\n",
    "\n",
    "plt.plot(comedy_line_breakdown['Year'],comedy_line_breakdown['Male Lines'], marker = '.', label = 'Males')\n",
    "plt.plot(comedy_line_breakdown['Year'],comedy_line_breakdown['Female Lines'], marker = '.', label = 'Females')\n",
    "plt.legend()\n",
    "plt.show()"
   ]
  },
  {
   "cell_type": "code",
   "execution_count": 192,
   "metadata": {},
   "outputs": [
    {
     "data": {
      "text/plain": [
       "0.14882804945495232"
      ]
     },
     "execution_count": 192,
     "metadata": {},
     "output_type": "execute_result"
    }
   ],
   "source": [
    "lines_model_m = LinearRegression().fit(comedy_line_breakdown[['Year']],comedy_line_breakdown['Male Lines'])\n",
    "lines_model_f = LinearRegression().fit(comedy_line_breakdown[['Year']],comedy_line_breakdown['Female Lines'])\n",
    "\n",
    "\n",
    "lines_model_f.score(comedy_line_breakdown[['Year']],comedy_line_breakdown['Female Lines'])\n",
    "lines_model_m.score(comedy_line_breakdown[['Year']],comedy_line_breakdown['Male Lines'])"
   ]
  },
  {
   "cell_type": "markdown",
   "metadata": {},
   "source": [
    "However, graph shows maybe there is a relationship between female lines and male lines"
   ]
  },
  {
   "cell_type": "code",
   "execution_count": 165,
   "metadata": {},
   "outputs": [
    {
     "data": {
      "image/png": "[encoded data removed]",
      "text/plain": [
       "<Figure size 432x288 with 1 Axes>"
      ]
     },
     "metadata": {},
     "output_type": "display_data"
    }
   ],
   "source": [
    "plt.style.use('seaborn-darkgrid')\n",
    "plt.scatter(comedy_line_breakdown['Female Lines'],comedy_line_breakdown['Male Lines'], marker = '.')\n",
    "plt.show()"
   ]
  },
  {
   "cell_type": "code",
   "execution_count": 273,
   "metadata": {},
   "outputs": [
    {
     "name": "stdout",
     "output_type": "stream",
     "text": [
      "Male mean =  966.8163265306123\n",
      "Female mean = 458.85714285714283\n",
      "\n",
      "\n",
      "Male std =  1140.170120228216\n",
      "Female std =  561.4687213015521\n"
     ]
    },
    {
     "data": {
      "text/plain": [
       "array([[1.        , 0.87323454],\n",
       "       [0.87323454, 1.        ]])"
      ]
     },
     "execution_count": 273,
     "metadata": {},
     "output_type": "execute_result"
    }
   ],
   "source": [
    "male_mean = comedy_line_breakdown['Male Lines'].mean()\n",
    "male_std = comedy_line_breakdown['Male Lines'].std()\n",
    "\n",
    "female_mean = comedy_line_breakdown['Female Lines'].mean()\n",
    "female_std = comedy_line_breakdown['Female Lines'].std()\n",
    "\n",
    "print ('Male mean = ', male_mean)\n",
    "print ('Female mean =', female_mean)\n",
    "print('\\n')\n",
    "print('Male std = ', male_std)\n",
    "print('Female std = ', female_std)\n",
    "\n",
    "np.corrcoef(comedy_line_breakdown['Female Lines'],comedy_line_breakdown['Male Lines'])\n",
    "#np.cov(comedy_line_breakdown['Female Lines'],comedy_line_breakdown['Male Lines'])"
   ]
  },
  {
   "cell_type": "code",
   "execution_count": 204,
   "metadata": {},
   "outputs": [
    {
     "data": {
      "text/plain": [
       "0.7625385585501347"
      ]
     },
     "execution_count": 204,
     "metadata": {},
     "output_type": "execute_result"
    }
   ],
   "source": [
    "f_vs_m = LinearRegression().fit(comedy_line_breakdown[['Female Lines']],comedy_line_breakdown['Male Lines'])\n",
    "f_vs_m.score(comedy_line_breakdown[['Female Lines']],comedy_line_breakdown['Male Lines'])"
   ]
  },
  {
   "cell_type": "code",
   "execution_count": 209,
   "metadata": {},
   "outputs": [
    {
     "data": {
      "text/plain": [
       "153.1384847281795"
      ]
     },
     "execution_count": 209,
     "metadata": {},
     "output_type": "execute_result"
    }
   ],
   "source": [
    "f_vs_m.coef_[0]\n",
    "f_vs_m.intercept_"
   ]
  },
  {
   "cell_type": "code",
   "execution_count": 223,
   "metadata": {},
   "outputs": [
    {
     "data": {
      "image/png": "[encoded data removed]",
      "text/plain": [
       "<Figure size 432x288 with 1 Axes>"
      ]
     },
     "metadata": {},
     "output_type": "display_data"
    }
   ],
   "source": [
    "plt.style.use('seaborn-darkgrid')\n",
    "\n",
    "\n",
    "predict = f_vs_m.predict(comedy_line_breakdown[['Female Lines']])\n",
    "\n",
    "\n",
    "plt.scatter(comedy_line_breakdown['Female Lines'],comedy_line_breakdown['Male Lines'], marker = '.')\n",
    "plt.plot(comedy_line_breakdown[['Female Lines']], predict, color = 'r')\n",
    "plt.show()"
   ]
  },
  {
   "cell_type": "code",
   "execution_count": 239,
   "metadata": {},
   "outputs": [
    {
     "data": {
      "image/png": "[encoded data removed]",
      "text/plain": [
       "<Figure size 432x288 with 1 Axes>"
      ]
     },
     "metadata": {},
     "output_type": "display_data"
    }
   ],
   "source": [
    "residuals = comedy_line_breakdown['Male Lines'] - predict\n",
    "plt.scatter(comedy_line_breakdown['Female Lines'],residuals)\n",
    "plt.show()"
   ]
  },
  {
   "cell_type": "code",
   "execution_count": 244,
   "metadata": {},
   "outputs": [
    {
     "data": {
      "text/plain": [
       "561.4846593034966"
      ]
     },
     "execution_count": 244,
     "metadata": {},
     "output_type": "execute_result"
    }
   ],
   "source": [
    "np.sqrt(sum((residuals**2))/(len(comedy_line_breakdown['Male Lines'])-2))"
   ]
  },
  {
   "cell_type": "code",
   "execution_count": 247,
   "metadata": {},
   "outputs": [],
   "source": [
    "lenth_dat = len(comedy_line_breakdown['Male Lines'])-2"
   ]
  },
  {
   "cell_type": "markdown",
   "metadata": {},
   "source": [
    "Evaluation of Significance\n",
    "=============\n",
    "* Use hypothesis tests, simulation, randomization, or any other techniques we have learned to compare the patterns you observe in the dataset to simple randomness. \n"
   ]
  },
  {
   "cell_type": "code",
   "execution_count": 280,
   "metadata": {},
   "outputs": [
    {
     "data": {
      "image/png": "[encoded data removed]",
      "text/plain": [
       "<Figure size 432x288 with 1 Axes>"
      ]
     },
     "metadata": {},
     "output_type": "display_data"
    }
   ],
   "source": [
    "def permuted_y():\n",
    "    return np.random.permutation(comedy_line_breakdown['Male Lines'].copy())\n",
    "\n",
    "permuted_stuff = np.zeros(1000)\n",
    "for i in range(0,1000):\n",
    "    model = LinearRegression().fit(comedy_line_breakdown[['Female Lines']],permuted_y())\n",
    "    model_co = model.coef_\n",
    "    permuted_stuff[i] = float(model_co)\n",
    "    \n",
    "plt.hist(permuted_stuff, rwidth = .8)\n",
    "plt.xlabel(\"Slopes\")\n",
    "plt.ylabel(\"Count\")\n",
    "plt.show()"
   ]
  },
  {
   "cell_type": "code",
   "execution_count": 287,
   "metadata": {},
   "outputs": [
    {
     "data": {
      "text/plain": [
       "array([1.77327051])"
      ]
     },
     "execution_count": 287,
     "metadata": {},
     "output_type": "execute_result"
    }
   ],
   "source": [
    "num = np.sqrt(sum((residuals**2))/(len(comedy_line_breakdown['Male Lines'])-2))\n",
    "denom = np.sqrt(sum((comedy_line_breakdown['Female Lines']-female_mean)**2))\n",
    "se = num/denom\n",
    "f_vs_m.coef_[0]/se"
   ]
  },
  {
   "cell_type": "markdown",
   "metadata": {},
   "source": [
    "Conclusion\n",
    "=============\n",
    "* What did you find over the course of your data analysis, and how confident are you in these conclusions? Interpret these results in the wider context of the real-life application from where your data hails.\n"
   ]
  }
 ],
 "metadata": {
  "kernelspec": {
   "display_name": "Python 3",
   "language": "python",
   "name": "python3"
  },
  "language_info": {
   "codemirror_mode": {
    "name": "ipython",
    "version": 3
   },
   "file_extension": ".py",
   "mimetype": "text/x-python",
   "name": "python",
   "nbconvert_exporter": "python",
   "pygments_lexer": "ipython3",
   "version": "3.7.4"
  }
 },
 "nbformat": 4,
 "nbformat_minor": 2
}
