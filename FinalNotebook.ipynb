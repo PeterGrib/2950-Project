{
 "cells": [
  {
   "cell_type": "markdown",
   "metadata": {},
   "source": [
    "Pablo Melasecca - pam32\n",
    "<br/>\n",
    "Peter Gribizis - pjg222\n",
    "<br/>\n",
    "GitHub Repository: https://github.com/PeterGrib/2950-Project"
   ]
  },
  {
   "cell_type": "markdown",
   "metadata": {},
   "source": [
    "Introduction\n",
    "=============\n",
    "<br/>"
   ]
  },
  {
   "cell_type": "markdown",
   "metadata": {},
   "source": [
    "As self-proclaimed film aficionados, we knew that our work for this prodigious endeavor would be facilitated if we somehow examined trends in the industry, hoping to uncover correlations intrinsically linked to social behavior and social norms. After extensive experimentation with an expansive dataset, we concatenated the data around one central question: **Can we predict the number of lines males will have in comedy films for a given year given the number of female lines?** <br/> <br/> Comedy and its many varieties (romantic, dark, parody and action) has historically perpetuated gender biases, prominently featuring male actors over female counterparts. We expected to find a gradual but visible reversal of these inherent biases, in that over time the difference in number of lines would not be significant by gender. In examining the number of lines delivered by both male and female actors in 159 comedy films, we were able to establish a statistically significant correlation. <br/> <br/>Unfortunately, we were mistaken in our original hypothesis. Through plotting and experimenting with the data, we realized no apparent significance examining the relationship between time and the number of lines by gender. While the number of female lines seems to have certainly increased over the decades, so too has the number of male lines. Dialogue in comedy films has increased in general overtime, but the proportion of male to female lines has remained relatively constant. By fitting a linear model to the dataset, we were able to determine that for each additional female line in a comedy movie, males were granted 1.773 lines. From this we gathered that on average, females have about 56% of the number of lines that males do.\n",
    "<br/> <br/>"
   ]
  },
  {
   "cell_type": "markdown",
   "metadata": {},
   "source": [
    "Data Description\n",
    "=============\n",
    "<br/>"
   ]
  },
  {
   "cell_type": "markdown",
   "metadata": {},
   "source": [
    "In our relentless search for good data, we came across an extensive study compiled by Cornell Computer Science professors to examine predictable linguistic patterns. It included an expansive data set featuring numerous tables containing movie titles, IMDB rating for those movies, character names, character genders and, most importantly, script dialogues of 617 movies across all genres. <br/> <br/>This dataset was created in order to write a research paper analyzing linguistic patterns in dialogue, using fictional conversations to establish patterns and mirroring as characters interact. The creation of this dataset was funded by Cornell University. Factors influencing the observed and compiled data may include the availability of and access to  movie scripts, as well as the number of movies and characters that shared a similar name. Duplicate film titles and character names could have potentially  influenced what movie data was collected to minimize confusion. Furthermore, the frequency with which characters exchanged dialogue in certain scenes, may have affected which lines/conversations from certain movies were omitted. Since the characters are strictly fictional, no people were involved in the collection of said data.\n",
    "\n",
    "The four tables we manipulated were originally stored in their own respective txt.file. In order to get the data into the form it is now, we had to read each file and replace the delimiter used (‘+++$+++’) with a comma, and then write these altered lines into a csv files, one for each table. In order to read the csv file, we had to specify a latin-8 encoding and assign column names for each table. For two  of the tables, the columns contained lists for which we had to go through each row and interpret the string representation of the list as an actual list. The raw data can be found in our GitHub repository, and the code for our data manipulation can be found in the `DataManipulation` jupyter notebook in the same repository.\n",
    "\n",
    "Once we transformed the data into a usable format, the observations and attributes of each table are as follows:\n",
    "\n",
    "Table 1: `Movie Titles`\n",
    "- Attributes: movieID, title, year, rating, # of votes, genres\n",
    "- Observations: Assigned ID(str), Movie title(str), release year(str), IMDB rating(float), # of reviews (int), genre(s) (list)\n",
    "\n",
    "Table 2: `Movie Characters`\n",
    "- Attributes: characterID,  Name,\tmovieID, title,\tgender,\tpos in credits\n",
    "- Observations:Assigned character ID (str), Character name(str), Movie title(str), Gender(str: m, f, ?), character's position in credits(str)\n",
    "\n",
    "Table 3: `Movie Lines`\n",
    "- Attributes: lineID, characterID, movieID, name, text\n",
    "- Observations: Assigned ID(str), character ID(str), movie ID(str), Character name(str), line text(str)\n",
    "\n",
    "Table 4: `Movie Conversations`\n",
    "- Attributes: characterID_first, characterID_second, movieID, line_order\n",
    "- Observations: Assigned ID(str), Assigned ID(str), Movie ID(str),  list of lines ID in chronological order\n",
    "\n",
    "\n",
    "From these tables, we were able to generate our final table containing the following manipulated attributes and observations central to our study. We were no longer interested in movie title or rating, but strictly aimed to understand trends by the numbers:\n",
    "\n",
    "`Comedy Lines: Year vs. Gender`\n",
    "- Attributes (observation type): Year (int), Male Lines (int), Female Lines (int)\n",
    "\n",
    "The movie lines included for each given script arise only from relevant conversations in that movie. In other words, only movie lines of substance (not just one off exclamations or comments) are included. This lends itself well to our analysis as the lines of 'token' women characters and background characters in general will not be considered. This final table represents the number of lines in comedy films for a given year where the movie lines are from substantive conversations.\n",
    "<br/>\n",
    "<br/>"
   ]
  },
  {
   "cell_type": "markdown",
   "metadata": {},
   "source": [
    "Data Analysis\n",
    "=============\n",
    "<br/>"
   ]
  },
  {
   "cell_type": "code",
   "execution_count": 1,
   "metadata": {},
   "outputs": [],
   "source": [
    "import numpy as np\n",
    "import pandas as pd\n",
    "import matplotlib.pyplot as plt\n",
    "from sklearn.linear_model import LinearRegression"
   ]
  },
  {
   "cell_type": "code",
   "execution_count": 2,
   "metadata": {},
   "outputs": [
    {
     "data": {
      "text/html": [
       "<div>\n",
       "<style scoped>\n",
       "    .dataframe tbody tr th:only-of-type {\n",
       "        vertical-align: middle;\n",
       "    }\n",
       "\n",
       "    .dataframe tbody tr th {\n",
       "        vertical-align: top;\n",
       "    }\n",
       "\n",
       "    .dataframe thead th {\n",
       "        text-align: right;\n",
       "    }\n",
       "</style>\n",
       "<table border=\"1\" class=\"dataframe\">\n",
       "  <thead>\n",
       "    <tr style=\"text-align: right;\">\n",
       "      <th></th>\n",
       "      <th>Year</th>\n",
       "      <th>Male Lines</th>\n",
       "      <th>Female Lines</th>\n",
       "    </tr>\n",
       "  </thead>\n",
       "  <tbody>\n",
       "    <tr>\n",
       "      <td>0</td>\n",
       "      <td>1931</td>\n",
       "      <td>368</td>\n",
       "      <td>77</td>\n",
       "    </tr>\n",
       "    <tr>\n",
       "      <td>1</td>\n",
       "      <td>1932</td>\n",
       "      <td>218</td>\n",
       "      <td>193</td>\n",
       "    </tr>\n",
       "    <tr>\n",
       "      <td>2</td>\n",
       "      <td>1933</td>\n",
       "      <td>155</td>\n",
       "      <td>0</td>\n",
       "    </tr>\n",
       "    <tr>\n",
       "      <td>3</td>\n",
       "      <td>1934</td>\n",
       "      <td>1110</td>\n",
       "      <td>902</td>\n",
       "    </tr>\n",
       "    <tr>\n",
       "      <td>4</td>\n",
       "      <td>1936</td>\n",
       "      <td>498</td>\n",
       "      <td>147</td>\n",
       "    </tr>\n",
       "  </tbody>\n",
       "</table>\n",
       "</div>"
      ],
      "text/plain": [
       "   Year  Male Lines  Female Lines\n",
       "0  1931         368            77\n",
       "1  1932         218           193\n",
       "2  1933         155             0\n",
       "3  1934        1110           902\n",
       "4  1936         498           147"
      ]
     },
     "execution_count": 2,
     "metadata": {},
     "output_type": "execute_result"
    }
   ],
   "source": [
    "#Load dataframe and display first five observations\n",
    "Comedy_Lines_Year_vs_Gender = pd.read_csv('Comedy_Lines_Year_vs_Gender.csv')\n",
    "Comedy_Lines_Year_vs_Gender.head()\n"
   ]
  },
  {
   "cell_type": "markdown",
   "metadata": {},
   "source": [
    "<br/>\n",
    "\n",
    "Having finally extracted a specific and workable data table, our initial idea was to test whether there was a relationship between the year the movie was released, and the count of both male and female lines. So we graphed the two vs. time to get an initial indication if this was worth exploring. This first attempt remains below.\n",
    "\n",
    "<br/>"
   ]
  },
  {
   "cell_type": "code",
   "execution_count": 4,
   "metadata": {},
   "outputs": [
    {
     "name": "stdout",
     "output_type": "stream",
     "text": [
      "\n",
      "\n"
     ]
    },
    {
     "data": {
      "image/png": "[encoded data removed]",
      "text/plain": [
       "<Figure size 432x288 with 1 Axes>"
      ]
     },
     "metadata": {},
     "output_type": "display_data"
    },
    {
     "name": "stdout",
     "output_type": "stream",
     "text": [
      "\n",
      "\n"
     ]
    }
   ],
   "source": [
    "plt.style.use('seaborn-darkgrid')\n",
    "\n",
    "plt.plot(Comedy_Lines_Year_vs_Gender['Year'],Comedy_Lines_Year_vs_Gender['Male Lines'], marker = '.', label = 'Males')\n",
    "plt.plot(Comedy_Lines_Year_vs_Gender['Year'],Comedy_Lines_Year_vs_Gender['Female Lines'], marker = '.', label = 'Females')\n",
    "plt.xlabel(\"Year of Film\")\n",
    "plt.ylabel(\"Total Number of Lines in Comedy Films\")\n",
    "plt.title(\"Film Release Year vs. Total Number of Lines in Comedy Films by Gender\")\n",
    "plt.legend()\n",
    "print('\\n')\n",
    "plt.show()\n",
    "print('\\n')"
   ]
  },
  {
   "cell_type": "markdown",
   "metadata": {},
   "source": [
    "The indicates that it is unlikely that there is any significant relationship (despite the sudden spike in 1999). To be sure, we checked to determine whether any correlation exists for each gender in extracting the correlation coefficients and fitting the data to linear models using regression. \n",
    "\n",
    "<br/>"
   ]
  },
  {
   "cell_type": "code",
   "execution_count": 7,
   "metadata": {},
   "outputs": [
    {
     "name": "stdout",
     "output_type": "stream",
     "text": [
      "\n",
      "\n",
      "The correlation coefficient for film release year vs. male lines in comedies =  0.386\n",
      "The correlation coefficient for film release year vs. female lines in comedies =  0.352\n",
      "\n",
      "\n"
     ]
    }
   ],
   "source": [
    "male_corrcoef = np.corrcoef(Comedy_Lines_Year_vs_Gender['Year'],Comedy_Lines_Year_vs_Gender['Male Lines'])[0][1]\n",
    "female_corrcoef = np.corrcoef(Comedy_Lines_Year_vs_Gender['Year'],Comedy_Lines_Year_vs_Gender['Female Lines'])[0][1]\n",
    "\n",
    "print('\\n')\n",
    "print(\"The correlation coefficient for film release year vs. male lines in comedies = \",  round(male_corrcoef,3))\n",
    "print(\"The correlation coefficient for film release year vs. female lines in comedies = \",  round(female_corrcoef,3))\n",
    "print('\\n')"
   ]
  },
  {
   "cell_type": "markdown",
   "metadata": {},
   "source": [
    "\n",
    "This again is not substantial, but not insignificant. We subsequently proceeded to fit linear regressions to determine what the $r^2$ values looked like.\n",
    "\n",
    "<br/>"
   ]
  },
  {
   "cell_type": "code",
   "execution_count": 8,
   "metadata": {},
   "outputs": [
    {
     "name": "stdout",
     "output_type": "stream",
     "text": [
      "\n",
      "\n",
      "The r^2 score for film release year vs. male lines in comedies =  0.149\n",
      "The r^2 score for film release year vs. female lines in comedies =  0.124\n",
      "\n",
      "\n"
     ]
    }
   ],
   "source": [
    "male_model = LinearRegression().fit(Comedy_Lines_Year_vs_Gender[['Year']],Comedy_Lines_Year_vs_Gender['Male Lines'])\n",
    "female_model = LinearRegression().fit(Comedy_Lines_Year_vs_Gender[['Year']],Comedy_Lines_Year_vs_Gender['Female Lines'])\n",
    "\n",
    "\n",
    "female_score = female_model.score(Comedy_Lines_Year_vs_Gender[['Year']],Comedy_Lines_Year_vs_Gender['Female Lines'])\n",
    "male_score = male_model.score(Comedy_Lines_Year_vs_Gender[['Year']],Comedy_Lines_Year_vs_Gender['Male Lines'])\n",
    "print('\\n')\n",
    "print(\"The r^2 score for film release year vs. male lines in comedies = \",  round(male_score,3))\n",
    "print(\"The r^2 score for film release year vs. female lines in comedies = \",  round(female_score,3))\n",
    "print('\\n')"
   ]
  },
  {
   "cell_type": "markdown",
   "metadata": {},
   "source": [
    "At this point, it seemed as though any chance of establishing significant correlation between the number of female lines and time were futile. This forced us to re-evaluate our research question in the hopes of highlighting the enduring precence of gender inequality in comedy. Rather than determining a trend in the amount of lines by gender over time, we shifted our focus to seeing if we could predict the amount of lines males have in comedies in a given year given the number female lines. We first plotted each year with the number of female lines on the x-axis and number of male lines on the y and thankfully observed some linearity.\n",
    "\n",
    "<br/>"
   ]
  },
  {
   "cell_type": "code",
   "execution_count": 9,
   "metadata": {},
   "outputs": [
    {
     "name": "stdout",
     "output_type": "stream",
     "text": [
      "\n",
      "\n"
     ]
    },
    {
     "data": {
      "image/png": "[encoded data removed]",
      "text/plain": [
       "<Figure size 432x288 with 1 Axes>"
      ]
     },
     "metadata": {},
     "output_type": "display_data"
    },
    {
     "name": "stdout",
     "output_type": "stream",
     "text": [
      "\n",
      "\n"
     ]
    }
   ],
   "source": [
    "plt.style.use('seaborn-darkgrid')\n",
    "plt.scatter(Comedy_Lines_Year_vs_Gender['Female Lines'],Comedy_Lines_Year_vs_Gender['Male Lines'], marker = '.')\n",
    "plt.xlabel(\"Female Character Total Lines in a Given Year\")\n",
    "plt.ylabel(\"Male Character Total Lines in a Given Year\")\n",
    "plt.title(\"Female vs. Male Total Lines in Comedies in Equivalent Years\")\n",
    "print('\\n')\n",
    "plt.show()\n",
    "print('\\n')"
   ]
  },
  {
   "cell_type": "markdown",
   "metadata": {},
   "source": [
    "The scatter plot idicates the prescene of a potential linear trend, so we continued with our regression analysis along this line of thinking.\n",
    "\n",
    "<br/>"
   ]
  },
  {
   "cell_type": "code",
   "execution_count": 10,
   "metadata": {},
   "outputs": [
    {
     "name": "stdout",
     "output_type": "stream",
     "text": [
      "\n",
      "\n",
      "Average number of lines per year for male characters in comedies  =  966.816\n",
      "Average number of lines per year for female characters in comedies  =  458.857\n",
      "\n",
      "\n",
      "Standard deviation of lines per year for male characters in comedies =  1140.170120228216\n",
      "Standard deviationof lines per year for female characters in comedies =  561.4687213015521\n",
      "\n",
      "\n",
      "The pearson correlation coefficient between total lines for male characters \n",
      "and total lines for female characters is comedy films is =  0.873\n",
      "\n",
      "\n",
      "The covarience of total lines for male characters \n",
      "and total lines for female characters is comedy films is =  559018.432\n",
      "\n",
      "\n"
     ]
    }
   ],
   "source": [
    "male_mean = Comedy_Lines_Year_vs_Gender['Male Lines'].mean()\n",
    "male_std = Comedy_Lines_Year_vs_Gender['Male Lines'].std()\n",
    "\n",
    "female_mean = Comedy_Lines_Year_vs_Gender['Female Lines'].mean()\n",
    "female_std = Comedy_Lines_Year_vs_Gender['Female Lines'].std()\n",
    "r = np.corrcoef(Comedy_Lines_Year_vs_Gender['Female Lines'],Comedy_Lines_Year_vs_Gender['Male Lines'])[0][1]\n",
    "cov = np.cov(Comedy_Lines_Year_vs_Gender['Female Lines'],Comedy_Lines_Year_vs_Gender['Male Lines'])[0][1]\n",
    "print('\\n')\n",
    "print ('Average number of lines per year for male characters in comedies  = ', round(male_mean,3))\n",
    "print ('Average number of lines per year for female characters in comedies  = ', round(female_mean,3))\n",
    "print('\\n')\n",
    "print('Standard deviation of lines per year for male characters in comedies = ', male_std)\n",
    "print('Standard deviationof lines per year for female characters in comedies = ', female_std)\n",
    "print('\\n')\n",
    "print('The pearson correlation coefficient between total lines for male characters \\nand total lines for female characters is comedy films is = ',round(r,3))\n",
    "print('\\n')\n",
    "print('The covarience of total lines for male characters \\nand total lines for female characters is comedy films is = ',round(cov,3))\n",
    "print('\\n')"
   ]
  },
  {
   "cell_type": "markdown",
   "metadata": {},
   "source": [
    "The **means** display the magnitude of the disparity between gender. As you can see, the mean number of lines for men is more than double that of females, suggesting there has been minimal progress in rectifying gender inequities in comedy films in the period examined (1930's - early 2000's). The **standard deviation** for male lines is significant, but not suprising granted the variety of film styles and the sheer number of datapoints in this set. The same can be said for the females. It makes sense that it is significantly lower due to the quantity and frequency of observed \n",
    "female lines. \n",
    "\n",
    "The **covariance** is incredibly large, suggesting a strong positive relationship. More significantly, the **pearson correlation coefficient** of 0.873 clearly demonstrates the significant positive linearity between the two variables. The relationship is close to perfectly linear. From this information we new we had uncovered a significance that entirely disproved our original hypothesis. The number of female lines in proportion to male lines in comedy had remained almost perfectly constant througout the years of observation and we were naive to assume otherwise. Upon examining the shared coefficient and $ r^2  $ value we were satisfied with the experiment.\n",
    "\n",
    "<br/>"
   ]
  },
  {
   "cell_type": "code",
   "execution_count": 11,
   "metadata": {},
   "outputs": [
    {
     "name": "stdout",
     "output_type": "stream",
     "text": [
      "\n",
      "\n",
      "The intercept for female vs. male total lines in comedies in equivalent years =  153.138\n",
      "The coefficient for female vs. male total lines in comedies in equivalent years =  1.773\n",
      "The r^2 score for female vs. male total lines in comedies in equivalent years =  0.763\n",
      "\n",
      "\n"
     ]
    }
   ],
   "source": [
    "f_vs_m = LinearRegression().fit(Comedy_Lines_Year_vs_Gender[['Female Lines']],Comedy_Lines_Year_vs_Gender['Male Lines'])\n",
    "r_sq = f_vs_m.score(Comedy_Lines_Year_vs_Gender[['Female Lines']],Comedy_Lines_Year_vs_Gender['Male Lines'])\n",
    "model_coef = f_vs_m.coef_[0]\n",
    "model_intercept = f_vs_m.intercept_\n",
    "\n",
    "print('\\n')\n",
    "print(\"The intercept for female vs. male total lines in comedies in equivalent years = \", round(model_intercept,3))\n",
    "print(\"The coefficient for female vs. male total lines in comedies in equivalent years = \", round(model_coef,3))\n",
    "print(\"The r^2 score for female vs. male total lines in comedies in equivalent years = \", round(r_sq,3))\n",
    "print('\\n')"
   ]
  },
  {
   "cell_type": "markdown",
   "metadata": {},
   "source": [
    "The $r^2$ coefficient of determination value of 0.763 exacts that 76.3% of variation around the mean can be explained by our model. The model coefficient numericalizes the significance of our findings. Given this value (1.773), we were able to determine the following:\n",
    "- Every one line increase for females equates to 1.773 line increase for males\n",
    "- Females have about 56% of the number of lines that males do in a given year. \n",
    "- If there were 0 female lines, we would expect roughly 153 male lines in a given year.\n",
    "\n",
    "\n",
    "The following graph demonstrates the accuracy with which the observed values follow the line of best-fit:\n",
    "\n",
    "<br/>"
   ]
  },
  {
   "cell_type": "code",
   "execution_count": 12,
   "metadata": {},
   "outputs": [
    {
     "name": "stdout",
     "output_type": "stream",
     "text": [
      "\n",
      "\n"
     ]
    },
    {
     "data": {
      "image/png": "[encoded data removed]",
      "text/plain": [
       "<Figure size 432x288 with 1 Axes>"
      ]
     },
     "metadata": {},
     "output_type": "display_data"
    },
    {
     "name": "stdout",
     "output_type": "stream",
     "text": [
      "\n",
      "\n"
     ]
    }
   ],
   "source": [
    "plt.style.use('seaborn-darkgrid')\n",
    "\n",
    "predicted_male_lines = f_vs_m.predict(Comedy_Lines_Year_vs_Gender[['Female Lines']])\n",
    "\n",
    "\n",
    "plt.scatter(Comedy_Lines_Year_vs_Gender['Female Lines'],Comedy_Lines_Year_vs_Gender['Male Lines'], marker = '.')\n",
    "plt.plot(Comedy_Lines_Year_vs_Gender[['Female Lines']], predicted_male_lines, color = 'r', label = 'Predicted Vals')\n",
    "plt.xlabel(\"Female Character Total Lines in a Given Year\")\n",
    "plt.ylabel(\"Male Character Total Lines in a Given Year\")\n",
    "plt.title(\"Female vs. Male Total Lines in Comedies in Equivalent Years\")\n",
    "plt.legend()\n",
    "print('\\n')\n",
    "plt.show()\n",
    "print('\\n')"
   ]
  },
  {
   "cell_type": "markdown",
   "metadata": {},
   "source": [
    "Although this seemed sufficient in establishing linearity, we were somewhat dissapointed in our examination of the residuals. Our residual plot clearly demonstrates heteroscedasticity, meaning that the residuals get larger as the prediction moves from small to large. The standard deviation (561.485) is also larger than we had hoped. This suggests that our model is certanly imperfect, given the varying amount of films per year and other inconsistencies in the dataset. This is most likely due to the fact that we attempted to simplify a complex dataset to alter its purpose. Still, given our motivations, we felt that our statistical discoveries were significant in establishing the constancy of gender inequity in comedic films as a reflection of social biases. \n",
    "\n",
    "<br/>"
   ]
  },
  {
   "cell_type": "code",
   "execution_count": 14,
   "metadata": {},
   "outputs": [
    {
     "name": "stdout",
     "output_type": "stream",
     "text": [
      "\n",
      "\n"
     ]
    },
    {
     "data": {
      "image/png": "[encoded data removed]",
      "text/plain": [
       "<Figure size 432x288 with 1 Axes>"
      ]
     },
     "metadata": {},
     "output_type": "display_data"
    },
    {
     "name": "stdout",
     "output_type": "stream",
     "text": [
      "\n",
      "\n"
     ]
    }
   ],
   "source": [
    "residuals = Comedy_Lines_Year_vs_Gender['Male Lines'] - predicted_male_lines\n",
    "plt.scatter(Comedy_Lines_Year_vs_Gender['Female Lines'],residuals)\n",
    "plt.plot([-100,3000],[0,0], color = 'r', linestyle = 'dashed')\n",
    "plt.title(\"Residual Plot\")\n",
    "print('\\n')\n",
    "plt.show()\n",
    "print('\\n')"
   ]
  },
  {
   "cell_type": "code",
   "execution_count": 17,
   "metadata": {},
   "outputs": [
    {
     "name": "stdout",
     "output_type": "stream",
     "text": [
      "The standard deviation of the residuals =  561.485\n",
      "\n",
      "\n",
      "\n",
      "\n"
     ]
    }
   ],
   "source": [
    "residual_std = np.sqrt(sum((residuals**2))/(len(Comedy_Lines_Year_vs_Gender['Male Lines'])-2))\n",
    "print(\"The standard deviation of the residuals = \", round(residual_std,3))\n",
    "print('\\n')\n",
    "print('\\n')"
   ]
  },
  {
   "cell_type": "markdown",
   "metadata": {},
   "source": [
    "Evaluation of Significance\n",
    "============="
   ]
  },
  {
   "cell_type": "markdown",
   "metadata": {},
   "source": [
    "**Randomization:**"
   ]
  },
  {
   "cell_type": "code",
   "execution_count": 18,
   "metadata": {},
   "outputs": [],
   "source": [
    "def permuted_y():\n",
    "    return np.random.permutation(Comedy_Lines_Year_vs_Gender['Male Lines'].copy())\n",
    "\n",
    "permutation_slopes = np.zeros(10000)\n",
    "for i in range(0,10000):\n",
    "    model = LinearRegression().fit(Comedy_Lines_Year_vs_Gender[['Female Lines']],permuted_y())\n",
    "    model_co = model.coef_\n",
    "    permutation_slopes[i] = float(model_co)"
   ]
  },
  {
   "cell_type": "code",
   "execution_count": 23,
   "metadata": {},
   "outputs": [
    {
     "name": "stdout",
     "output_type": "stream",
     "text": [
      "\n",
      "\n"
     ]
    },
    {
     "data": {
      "image/png": "[encoded data removed]",
      "text/plain": [
       "<Figure size 432x288 with 1 Axes>"
      ]
     },
     "metadata": {},
     "output_type": "display_data"
    },
    {
     "name": "stdout",
     "output_type": "stream",
     "text": [
      "\n",
      "\n"
     ]
    }
   ],
   "source": [
    "plt.hist(permutation_slopes, rwidth = .8, bins = 40)\n",
    "plt.xlabel(\"Slopes\")\n",
    "plt.ylabel(\"Count\")\n",
    "print('\\n')\n",
    "plt.show()\n",
    "print('\\n')"
   ]
  },
  {
   "cell_type": "markdown",
   "metadata": {},
   "source": [
    "In 10,000 iterations, not a single of the 10,000 permutations of the number of male lines yielded a regression coefficient whose absolute value was equal to or greater than what we found. It is thus extremely unlikely the relationship we found can be explained by randomness.  \n",
    "\n",
    "<br/>"
   ]
  },
  {
   "cell_type": "markdown",
   "metadata": {},
   "source": [
    "**Hypothesis Test:**"
   ]
  },
  {
   "cell_type": "code",
   "execution_count": 26,
   "metadata": {},
   "outputs": [
    {
     "name": "stdout",
     "output_type": "stream",
     "text": [
      "Test statistic =  12.285\n"
     ]
    }
   ],
   "source": [
    "denom = sum((Comedy_Lines_Year_vs_Gender['Female Lines']-female_mean)**2)\n",
    "SE = residual_std / np.sqrt(denom)\n",
    "t_test = model_coef/SE\n",
    "print(\"Test statistic = \", round(t_test,3))"
   ]
  },
  {
   "cell_type": "markdown",
   "metadata": {},
   "source": [
    "We conducted a hypothesis test to determine whether there was a statistically significant trend between the number of female lines for comedy movies in a given year and the number of male lines for comedy movies in a given year. The null hypothesis was that there was no linear relationship, and the alternative hypothesis was that there *is* a significant linear relationship.  \n",
    "\n",
    "<br/>\n",
    "\n",
    "We used a significane level of .05 (our results are consistent even with $\\alpha = .01$) and a test statisitc as outlined below. We used an online calculator to find the relevant t-score given our degrees of freedom and signifiance level, and were able to reject the null hypothesis and claim that there is indeed a significant linear relationship in our model.\n",
    "\n",
    "<br/>"
   ]
  },
  {
   "cell_type": "markdown",
   "metadata": {},
   "source": [
    "1.)\n",
    "* H<sub>o</sub>: $\\rho$ = 0\n",
    "* H<sub>a</sub>: $\\rho$ $\\neq$ 0\n",
    "\n",
    "2.) \n",
    "* $\\alpha$ = .05\n",
    "\n",
    "3.) \n",
    "* t<sub>test</sub> = $\\frac{Slope}{Slope Standard Error}$ = $ \\frac{\\beta_1} {\\sqrt{\\frac{\\frac{\\sum{(Y_i-\\hat{Y_i})^2}}{N-2}}{\\sum{(X_i-\\bar{X})}}}}$\n",
    "* *df = N - 2 = 47*\n",
    "\n",
    "4.)\n",
    "* Reject H<sub>o</sub> if t<sub>test</sub> > 2.0117\n",
    "\n",
    "5.) \n",
    "*  t<sub>test</sub> = 12.285 → *Reject H<sub>o</sub> at $\\alpha$ = .05*\n",
    "\n",
    "6.)\n",
    "* There is a significant linear relationship between the number of female lines for comedy movies in a given year and the number of male lines for comedy movies in a given year.  \n",
    "\n",
    "<br/>\n",
    "<br/>"
   ]
  },
  {
   "cell_type": "markdown",
   "metadata": {},
   "source": [
    "Conclusion\n",
    "=============\n",
    "<br/>"
   ]
  },
  {
   "cell_type": "markdown",
   "metadata": {},
   "source": [
    "In manipulating and analysing our data we are able to confidently conclude the imbalanced proportion of male to female lines in comedy has lasted the test of time. Given the abstraction of the original dataset and its purpose, our model is imperfect in analyzing the trend, but we hold the observed data to be substantially representative of the genre in its entirety.\n",
    "\n",
    "<br/>\n",
    "Since the original purpose of the data was to analyze linguistic patterns; more specifically the extent to which individuals adapt to each other's language styles in conversation, gender played a significant role. The study determined that characters tended to mirror the linguistic patterns of females more than to males. Where the original study granted females substantial influence in subconsciously manipulating the language in dialogue, ours hoped to make use of the film data to model the increasing inclusion of females in a genre historically dominated by men. Instead, we were met with the problematic reality and endurance of inherent and implicit biases. \n",
    "\n",
    "<br/>\n",
    "\n",
    "This data problematizes comedy as a genre in failing to erradicate the notion that comedic ability is intrinsic to gender. The most significant discovery being that females consistently have around 56% of the number of lines that males do in a given year. To further broaden the context from the industry to the consumer, it would be interesting to examine the relationship between the frequency of female lines in a film and its IMDB rating. This would provide further insight to the scope of the problem. Another possibility would be to conduct the same tests across the other genres in order to determine whether comedy is unique in this regard. Furthermore, our study does not include an analysis of the length and content of each line. I fear doing so would serve only to intensify the gender disparities in the film industry. Each statistical model serves as a microcosm of our greater social ecology. If anything, we should have been perceptive enough to anticipate our findings. In a society that has historically marginalized women, artistic renderings, in this case funny movies, serve only to mirror and perpetuate bias."
   ]
  }
 ],
 "metadata": {
  "kernelspec": {
   "display_name": "Python 3",
   "language": "python",
   "name": "python3"
  },
  "language_info": {
   "codemirror_mode": {
    "name": "ipython",
    "version": 3
   },
   "file_extension": ".py",
   "mimetype": "text/x-python",
   "name": "python",
   "nbconvert_exporter": "python",
   "pygments_lexer": "ipython3",
   "version": "3.7.4"
  }
 },
 "nbformat": 4,
 "nbformat_minor": 2
}
